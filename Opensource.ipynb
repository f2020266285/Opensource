{
  "cells": [
    {
      "cell_type": "code",
      "execution_count": 1,
      "metadata": {
        "colab": {
          "base_uri": "https://localhost:8080/"
        },
        "id": "99qAWOqoH35F",
        "outputId": "5f11494c-1d52-49cb-99cb-04ff54ec061c"
      },
      "outputs": [
        {
          "name": "stdout",
          "output_type": "stream",
          "text": [
            "Available Books:\n",
            "Book 1 by Author 1\n",
            "Book 2 by Author 2\n",
            "Book 3 by Author 3\n",
            "Book not available: Book 1 by Author 1\n",
            "Book not available: Book 3 by Author 3\n",
            "\n",
            "Member 1's Checked-Out Books:\n",
            "You didn't check out this book: Book 1 by Author 1\n",
            "\n",
            "Member 1's Checked-Out Books After Returning a Book:\n"
          ]
        }
      ],
      "source": [
        "class Book:\n",
        "    def __init__(self, title, author):\n",
        "        self.title = title\n",
        "        self.author = author\n",
        "\n",
        "    def __str__(self):\n",
        "        return f\"{self.title} by {self.author}\"\n",
        "\n",
        "\n",
        "class Library:\n",
        "    def __init__(self):\n",
        "        self.books = []\n",
        "\n",
        "    def add_book(self, book):\n",
        "        self.books.append(book)\n",
        "\n",
        "    def remove_book(self, book):\n",
        "        if book in self.books:\n",
        "            self.books.remove(book)\n",
        "\n",
        "    def view_books(self):\n",
        "        for book in self.books:\n",
        "            print(book)\n",
        "\n",
        "    def checkout(self, member, book):\n",
        "        pass\n",
        "\n",
        "    def return_book(self, member, book):\n",
        "        pass\n",
        "\n",
        "\n",
        "class MemberLibrary(Library):\n",
        "    def __init__(self):\n",
        "        super().__init__()\n",
        "        self.checked_out_books = []\n",
        "\n",
        "    def checkout(self, member, book):\n",
        "        if book in self.books:\n",
        "            self.books.remove(book)\n",
        "            self.checked_out_books.append(book)\n",
        "        else:\n",
        "            print(f\"Book not available: {book}\")\n",
        "\n",
        "    def return_book(self, member, book):\n",
        "        if book in self.checked_out_books:\n",
        "            self.checked_out_books.remove(book)\n",
        "            self.add_book(book)\n",
        "        else:\n",
        "            print(f\"You didn't check out this book: {book}\")\n",
        "\n",
        "# Create a library object\n",
        "my_library = Library()\n",
        "\n",
        "# Add books to the library\n",
        "book1 = Book(\"Book 1\", \"Author 1\")\n",
        "book2 = Book(\"Book 2\", \"Author 2\")\n",
        "book3 = Book(\"Book 3\", \"Author 3\")\n",
        "my_library.add_book(book1)\n",
        "my_library.add_book(book2)\n",
        "my_library.add_book(book3)\n",
        "\n",
        "# View the list of available books\n",
        "print(\"Available Books:\")\n",
        "my_library.view_books()\n",
        "\n",
        "# Remove a book from the library\n",
        "my_library.remove_book(book2)\n",
        "\n",
        "# Create a member library object\n",
        "member_library = MemberLibrary()\n",
        "\n",
        "# Allow a member to check out a book from the library and display their checked-out books\n",
        "member_library.checkout(\"Member 1\", book1)\n",
        "member_library.checkout(\"Member 1\", book3)\n",
        "\n",
        "print(\"\\nMember 1's Checked-Out Books:\")\n",
        "member_library.view_books()\n",
        "\n",
        "# Allow the member to return a book to the library\n",
        "member_library.return_book(\"Member 1\", book1)\n",
        "\n",
        "print(\"\\nMember 1's Checked-Out Books After Returning a Book:\")\n",
        "member_library.view_books()\n"
      ]
    },
    {
      "cell_type": "code",
      "execution_count": 7,
      "metadata": {
        "colab": {
          "base_uri": "https://localhost:8080/"
        },
        "id": "Z2TFLWAiSJ8x",
        "outputId": "90e886e0-9016-4dd8-90bf-7d9cde7e9de2"
      },
      "outputs": [
        {
          "name": "stdout",
          "output_type": "stream",
          "text": [
            "Total price in the cart: $70.2\n",
            "Total price: $70.2\n",
            "Checkout completed!\n"
          ]
        }
      ],
      "source": [
        "\n",
        "class Product:\n",
        "    def __init__(self, name, price):\n",
        "          self.name = name\n",
        "          self.price = price\n",
        "\n",
        "    def calculate_price(self):\n",
        "        pass\n",
        "\n",
        "\n",
        "class PhysicalProduct(Product):\n",
        "    def __init__(self, name, price, weight):\n",
        "        super().__init__(name, price)\n",
        "        self.weight = weight\n",
        "\n",
        "    def calculate_price(self):\n",
        "        # Calculate the total price for physical products including shipping costs\n",
        "        shipping_cost = self.weight * 0.1  # Example shipping cost calculation\n",
        "        return self.price + shipping_cost\n",
        "\n",
        "\n",
        "class DigitalProduct(Product):\n",
        "    def __init__(self, name, price, download_link):\n",
        "        super().__init__(name, price)\n",
        "        self.download_link = download_link\n",
        "\n",
        "    def calculate_price(self):\n",
        "        # Calculate the total price for digital products\n",
        "        return self.price\n",
        "\n",
        "\n",
        "class ShoppingCart:\n",
        "    def __init__(self):\n",
        "        self.cart = []\n",
        "\n",
        "    def add_product(self, product):\n",
        "        self.cart.append(product)\n",
        "\n",
        "    def remove_product(self, product):\n",
        "        if product in self.cart:\n",
        "            self.cart.remove(product)\n",
        "\n",
        "    def calculate_total_price(self):\n",
        "        total_price = 0\n",
        "        for product in self.cart:\n",
        "            total_price += product.calculate_price()\n",
        "        return total_price\n",
        "\n",
        "    def checkout(self):\n",
        "        total_price = self.calculate_total_price()\n",
        "        print(f\"Total price: ${total_price}\")\n",
        "        print(\"Checkout completed!\")\n",
        "\n",
        "\n",
        "# Demonstration\n",
        "physical_product = PhysicalProduct(\"Physical Item\", 50, 2)\n",
        "digital_product = DigitalProduct(\"Digital Download\", 20, \"download_link\")\n",
        "cart = ShoppingCart()\n",
        "\n",
        "# Add products to the shopping cart\n",
        "cart.add_product(physical_product)\n",
        "cart.add_product(digital_product)\n",
        "\n",
        "# Calculate the total price\n",
        "total_price = cart.calculate_total_price()\n",
        "print(f\"Total price in the cart: ${total_price}\")\n",
        "\n",
        "# Checkout\n",
        "cart.checkout()\n",
        "\n"
      ]
    },
    {
      "cell_type": "code",
      "execution_count": 8,
      "metadata": {
        "colab": {
          "base_uri": "https://localhost:8080/"
        },
        "id": "EQC9chyg_Vm1",
        "outputId": "df8537ed-70e2-457b-d8a8-d0a1f53c5d19"
      },
      "outputs": [
        {
          "name": "stdout",
          "output_type": "stream",
          "text": [
            "The factorial of 5 is 120\n"
          ]
        }
      ],
      "source": [
        "def factorial(n):\n",
        "    if n == 0:\n",
        "        return 1\n",
        "    else:\n",
        "        return n * factorial(n - 1)\n",
        "\n",
        "# Example usage:\n",
        "number = 5\n",
        "result = factorial(number)\n",
        "print(f\"The factorial of {number} is {result}\")\n",
        "\n"
      ]
    },
    {
      "cell_type": "code",
      "execution_count": 23,
      "metadata": {
        "colab": {
          "base_uri": "https://localhost:8080/"
        },
        "id": "Yxu3wvEc_V3E",
        "outputId": "969fbba6-1d6b-4dff-f55b-65605317dfcc"
      },
      "outputs": [
        {
          "name": "stdout",
          "output_type": "stream",
          "text": [
            "Enter Number to check Prime or composite\n",
            "3\n",
            "prime number\n"
          ]
        }
      ],
      "source": [
        "print(\"Enter Number to check Prime or composite\")\n",
        "num = int(input())\n",
        "a = num\n",
        "for i in range(2,num+1):\n",
        " if(num%i ==0):\n",
        "   break\n",
        " if (num != i):\n",
        "      print(\"prime number\")\n",
        "else:\n",
        "      print(\"coposite Number\")\n"
      ]
    },
    {
      "cell_type": "code",
      "execution_count": 24,
      "metadata": {
        "colab": {
          "base_uri": "https://localhost:8080/"
        },
        "id": "IbLPiVG9_WBZ",
        "outputId": "496a446b-680a-4709-dcb6-a25114d70440"
      },
      "outputs": [
        {
          "name": "stdout",
          "output_type": "stream",
          "text": [
            "The first 10 Fibonacci numbers are: [0, 1, 1, 2, 3, 5, 8, 13, 21, 34]\n"
          ]
        }
      ],
      "source": [
        "class FibonacciSequence:\n",
        "    def __init__(self, n):\n",
        "        self.n = n\n",
        "        self.sequence = []\n",
        "\n",
        "    def generate_sequence(self):\n",
        "        a, b = 0, 1\n",
        "        for _ in range(self.n):\n",
        "            self.sequence.append(a)\n",
        "            a, b = b, a + b\n",
        "\n",
        "    def get_sequence(self):\n",
        "        return self.sequence\n",
        "\n",
        "# Example usage:\n",
        "n = 10  # Number of Fibonacci numbers to generate\n",
        "fibonacci = FibonacciSequence(n)\n",
        "fibonacci.generate_sequence()\n",
        "sequence = fibonacci.get_sequence()\n",
        "\n",
        "print(f\"The first {n} Fibonacci numbers are: {sequence}\")\n"
      ]
    },
    {
      "cell_type": "code",
      "execution_count": 25,
      "metadata": {
        "colab": {
          "base_uri": "https://localhost:8080/"
        },
        "id": "GulXsXgY_WD7",
        "outputId": "d14b5a18-5c17-4e7e-b149-e1ca80645a60"
      },
      "outputs": [
        {
          "name": "stdout",
          "output_type": "stream",
          "text": [
            "The sum of the digits of 12345 is 15\n"
          ]
        }
      ],
      "source": [
        "def sum_of_digits(n):\n",
        "    # Initialize the sum to zero\n",
        "    total = 0\n",
        "\n",
        "    # Convert the number to a string to iterate through its digits\n",
        "    num_str = str(n)\n",
        "\n",
        "    # Iterate through the digits and add them to the total\n",
        "    for digit in num_str:\n",
        "        total += int(digit)\n",
        "\n",
        "    return total\n",
        "\n",
        "# Example usage:\n",
        "number = 12345\n",
        "result = sum_of_digits(number)\n",
        "print(f\"The sum of the digits of {number} is {result}\")\n"
      ]
    },
    {
      "cell_type": "code",
      "execution_count": 26,
      "metadata": {
        "colab": {
          "base_uri": "https://localhost:8080/"
        },
        "id": "f0Vo0qfk_WGW",
        "outputId": "ae004f1d-2b56-4a8f-f15c-e888e369ea4a"
      },
      "outputs": [
        {
          "name": "stdout",
          "output_type": "stream",
          "text": [
            "Yes\n"
          ]
        }
      ],
      "source": [
        "# function which return reverse of a string\n",
        "\n",
        "def isPalindrome(s):\n",
        "    return s == s[::-1]\n",
        "\n",
        "\n",
        "# Driver code\n",
        "s = \"malayalam\"\n",
        "ans = isPalindrome(s)\n",
        "\n",
        "if ans:\n",
        "    print(\"Yes\")\n",
        "else:\n",
        "    print(\"No\")\n"
      ]
    },
    {
      "cell_type": "code",
      "execution_count": null,
      "metadata": {
        "id": "Fv8XwrXD_WIj"
      },
      "outputs": [],
      "source": [
        "txt = \"Hello Ayesha\"[::-1]\n",
        "print(txt)\n"
      ]
    },
    {
      "cell_type": "code",
      "execution_count": null,
      "metadata": {
        "id": "xOS_-q8w_WKX"
      },
      "outputs": [],
      "source": [
        "num = int(input(\"Enter a number: \"))\n",
        "if (num % 2) == 0:\n",
        "   print(\"{0} is Even\".format(num))\n",
        "else:\n",
        "   print(\"{0} is Odd\".format(num))\n"
      ]
    },
    {
      "cell_type": "code",
      "execution_count": null,
      "metadata": {
        "id": "iNBUHHiu_WMe"
      },
      "outputs": [],
      "source": [
        "a = {23,45,17,8,56,10}\n",
        "print(\"Set A :\",a)\n",
        "print(\"\\nMaximum of A :\",max(a))\n",
        "print(\"Minimum of A :\",min(a))\n"
      ]
    },
    {
      "cell_type": "code",
      "execution_count": 27,
      "metadata": {
        "colab": {
          "base_uri": "https://localhost:8080/"
        },
        "id": "FQe4RUaE_WQE",
        "outputId": "e41b2f50-7f3a-4463-9050-7d8ec134bf0c"
      },
      "outputs": [
        {
          "name": "stdout",
          "output_type": "stream",
          "text": [
            "Number of vowels: 3\n",
            "Number of consonants: 7\n"
          ]
        }
      ],
      "source": [
        "def count_vowels_and_consonants(s):\n",
        "    vowels = \"AEIOUaeiou\"\n",
        "    vowel_count = 0\n",
        "    consonant_count = 0\n",
        "\n",
        "    for char in s:\n",
        "        if char.isalpha():\n",
        "            if char in vowels:\n",
        "                vowel_count += 1\n",
        "            else:\n",
        "                consonant_count += 1\n",
        "\n",
        "    return vowel_count, consonant_count\n",
        "\n",
        "# Example usage:\n",
        "text = \"Hello, World!\"\n",
        "vowels, consonants = count_vowels_and_consonants(text)\n",
        "\n",
        "print(f\"Number of vowels: {vowels}\")\n",
        "print(f\"Number of consonants: {consonants}\")\n"
      ]
    },
    {
      "cell_type": "code",
      "execution_count": 28,
      "metadata": {
        "colab": {
          "base_uri": "https://localhost:8080/"
        },
        "id": "zudhDNZACAui",
        "outputId": "64ba0059-57dd-46fe-bdc7-304c28411632"
      },
      "outputs": [
        {
          "name": "stdout",
          "output_type": "stream",
          "text": [
            "Select operation.\n",
            "1.Add\n",
            "2.Subtract\n",
            "3.Multiply\n",
            "4.Divide\n",
            "Enter choice(1/2/3/4): 1\n",
            "Enter first number: 2\n",
            "Enter second number: 3\n",
            "2.0 + 3.0 = 5.0\n",
            "Let's do next calculation? (yes/no): no\n"
          ]
        }
      ],
      "source": [
        "# This function adds two numbers\n",
        "def add(x, y):\n",
        "    return x + y\n",
        "# This function subtracts two numbers\n",
        "def subtract(x, y):\n",
        "    return x - y\n",
        "# This function multiplies two numbers\n",
        "def multiply(x, y):\n",
        "    return x * y\n",
        "# This function divides two numbers\n",
        "def divide(x, y):\n",
        "    return x / y\n",
        "print(\"Select operation.\")\n",
        "print(\"1.Add\")\n",
        "print(\"2.Subtract\")\n",
        "print(\"3.Multiply\")\n",
        "print(\"4.Divide\")\n",
        "while True:\n",
        "    # take input from the user\n",
        "    choice = input(\"Enter choice(1/2/3/4): \")\n",
        "\n",
        "    # check if choice is one of the four options\n",
        "    if choice in ('1', '2', '3', '4'):\n",
        "        try:\n",
        "            num1 = float(input(\"Enter first number: \"))\n",
        "            num2 = float(input(\"Enter second number: \"))\n",
        "        except ValueError:\n",
        "            print(\"Invalid input. Please enter a number.\")\n",
        "            continue\n",
        "        if choice == '1':\n",
        "            print(num1, \"+\", num2, \"=\", add(num1, num2))\n",
        "\n",
        "        elif choice == '2':\n",
        "            print(num1, \"-\", num2, \"=\", subtract(num1, num2))\n",
        "\n",
        "        elif choice == '3':\n",
        "            print(num1, \"*\", num2, \"=\", multiply(num1, num2))\n",
        "\n",
        "        elif choice == '4':\n",
        "            print(num1, \"/\", num2, \"=\", divide(num1, num2))\n",
        "\n",
        "        # check if user wants another calculation\n",
        "        # break the while loop if answer is no\n",
        "        next_calculation = input(\"Let's do next calculation? (yes/no): \")\n",
        "        if next_calculation == \"no\":\n",
        "          break\n",
        "    else:\n",
        "        print(\"Invalid Input\")\n",
        "\n"
      ]
    },
    {
      "cell_type": "code",
      "execution_count": 29,
      "metadata": {
        "colab": {
          "base_uri": "https://localhost:8080/"
        },
        "id": "ikJiqcDoCA0w",
        "outputId": "2ae082f6-1003-458a-bfd9-f3f9ef242adc"
      },
      "outputs": [
        {
          "name": "stdout",
          "output_type": "stream",
          "text": [
            "GCD of 36 and 60 is 12\n"
          ]
        }
      ],
      "source": [
        "num1 = 36\n",
        "num2 = 60\n",
        "a = num1\n",
        "b = num2\n",
        "\n",
        "while num1 != num2:\n",
        "    if num1 > num2:\n",
        "        num1 -= num2\n",
        "    else:\n",
        "        num2 -= num1\n",
        "\n",
        "print(\"GCD of\", a, \"and\", b, \"is\", num1)\n"
      ]
    },
    {
      "cell_type": "code",
      "execution_count": 30,
      "metadata": {
        "colab": {
          "base_uri": "https://localhost:8080/"
        },
        "id": "L4SRrqKZCA25",
        "outputId": "2da8ee5a-1ff6-45c6-95cf-09c30a4cab6e"
      },
      "outputs": [
        {
          "name": "stdout",
          "output_type": "stream",
          "text": [
            "LCM of 12 and 14 is 84\n"
          ]
        }
      ],
      "source": [
        "num1 = 12\n",
        "num2 = 14\n",
        "for i in range(max(num1, num2), 1 + (num1 * num2)):\n",
        "    if i % num1 == i % num2 == 0:\n",
        "        lcm = i\n",
        "        break\n",
        "print(\"LCM of\", num1, \"and\", num2, \"is\", lcm)\n"
      ]
    },
    {
      "cell_type": "code",
      "execution_count": 31,
      "metadata": {
        "colab": {
          "base_uri": "https://localhost:8080/"
        },
        "id": "z1h-5C-NCA4P",
        "outputId": "c6836569-86c8-4c58-ec49-d1f67954afb2"
      },
      "outputs": [
        {
          "name": "stdout",
          "output_type": "stream",
          "text": [
            "The factors of 320 are:\n",
            "1\n",
            "2\n",
            "4\n",
            "5\n",
            "8\n",
            "10\n",
            "16\n",
            "20\n",
            "32\n",
            "40\n",
            "64\n",
            "80\n",
            "160\n",
            "320\n"
          ]
        }
      ],
      "source": [
        "def print_factors(x):\n",
        "   print(\"The factors of\",x,\"are:\")\n",
        "   for i in range(1, x + 1):\n",
        "       if x % i == 0:\n",
        "           print(i)\n",
        "\n",
        "num = 320\n",
        "\n",
        "print_factors(num)\n"
      ]
    },
    {
      "cell_type": "code",
      "execution_count": 32,
      "metadata": {
        "colab": {
          "base_uri": "https://localhost:8080/"
        },
        "id": "fNYtHp7tCA7p",
        "outputId": "555f7484-4328-4973-fd0f-0612fab98c01"
      },
      "outputs": [
        {
          "name": "stdout",
          "output_type": "stream",
          "text": [
            "2024 is a leap year.\n"
          ]
        }
      ],
      "source": [
        "def is_leap_year(year):\n",
        "    if (year % 4 == 0 and year % 100 != 0) or (year % 400 == 0):\n",
        "        return True\n",
        "    else:\n",
        "        return False\n",
        "\n",
        "# Example usage:\n",
        "year = 2024\n",
        "\n",
        "if is_leap_year(year):\n",
        "    print(f\"{year} is a leap year.\")\n",
        "else:\n",
        "    print(f\"{year} is not a leap year.\")\n"
      ]
    }
  ],
  "metadata": {
    "accelerator": "GPU",
    "colab": {
      "provenance": []
    },
    "kernelspec": {
      "display_name": "Python 3",
      "name": "python3"
    },
    "language_info": {
      "name": "python"
    }
  },
  "nbformat": 4,
  "nbformat_minor": 0
}
